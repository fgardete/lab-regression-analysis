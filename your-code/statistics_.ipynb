{
  "nbformat": 4,
  "nbformat_minor": 0,
  "metadata": {
    "colab": {
      "name": "statistics .ipynb",
      "provenance": [],
      "collapsed_sections": [
        "EVCif6WDM99V",
        "jrhdtpkmM993"
      ]
    },
    "kernelspec": {
      "display_name": "Python 3",
      "language": "python",
      "name": "python3"
    },
    "language_info": {
      "codemirror_mode": {
        "name": "ipython",
        "version": 3
      },
      "file_extension": ".py",
      "mimetype": "text/x-python",
      "name": "python",
      "nbconvert_exporter": "python",
      "pygments_lexer": "ipython3",
      "version": "3.7.9"
    }
  },
  "cells": [
    {
      "cell_type": "code",
      "metadata": {
        "id": "7DlwntB_17VO"
      },
      "source": [
        "import numpy as np\n",
        "import matplotlib.pyplot as plt"
      ],
      "execution_count": null,
      "outputs": []
    },
    {
      "cell_type": "markdown",
      "metadata": {
        "id": "EVCif6WDM99V"
      },
      "source": [
        "# Location and dispersion measures"
      ]
    },
    {
      "cell_type": "markdown",
      "metadata": {
        "id": "KFUEXUu7XOxc"
      },
      "source": [
        "## Location"
      ]
    },
    {
      "cell_type": "code",
      "metadata": {
        "colab": {
          "base_uri": "https://localhost:8080/"
        },
        "id": "tEnIyrm56s2j",
        "outputId": "bfb987a3-41cb-45b5-fee6-18324c80e277"
      },
      "source": [
        "dataset = np.random.randint(20,80,size = 500)\n",
        "dataset"
      ],
      "execution_count": null,
      "outputs": [
        {
          "data": {
            "text/plain": [
              "array([31, 68, 49, 27, 56, 37, 50, 69, 60, 76, 28, 78, 28, 76, 75, 76, 77,\n",
              "       53, 20, 21, 50, 58, 31, 47, 49, 39, 72, 30, 61, 58, 43, 37, 74, 53,\n",
              "       76, 42, 62, 68, 43, 61, 76, 48, 45, 31, 51, 52, 23, 31, 65, 38, 38,\n",
              "       20, 28, 52, 26, 42, 74, 51, 33, 32, 21, 74, 41, 54, 68, 53, 51, 78,\n",
              "       35, 75, 47, 74, 70, 71, 75, 31, 52, 55, 43, 32, 47, 55, 68, 79, 46,\n",
              "       65, 45, 27, 68, 63, 63, 34, 62, 64, 60, 49, 69, 58, 56, 64, 66, 69,\n",
              "       21, 54, 33, 49, 47, 29, 44, 27, 78, 45, 58, 44, 23, 27, 73, 70, 56,\n",
              "       78, 76, 28, 27, 61, 76, 23, 48, 69, 73, 48, 53, 40, 30, 66, 50, 28,\n",
              "       31, 45, 58, 69, 28, 27, 29, 48, 37, 62, 73, 62, 38, 54, 53, 48, 71,\n",
              "       76, 20, 53, 33, 36, 32, 43, 43, 78, 44, 77, 31, 44, 74, 51, 69, 38,\n",
              "       38, 38, 66, 22, 40, 49, 54, 28, 66, 25, 70, 72, 64, 21, 56, 59, 37,\n",
              "       63, 73, 32, 76, 39, 24, 72, 23, 29, 22, 52, 36, 21, 59, 52, 32, 33,\n",
              "       25, 48, 50, 56, 67, 50, 53, 58, 78, 79, 73, 46, 64, 48, 67, 47, 69,\n",
              "       43, 65, 42, 79, 27, 38, 29, 77, 35, 36, 28, 31, 29, 70, 21, 43, 58,\n",
              "       65, 58, 76, 68, 45, 32, 58, 55, 42, 46, 48, 39, 27, 67, 56, 31, 35,\n",
              "       36, 39, 57, 69, 30, 59, 23, 45, 53, 72, 53, 61, 31, 74, 61, 60, 35,\n",
              "       53, 79, 31, 44, 29, 40, 66, 67, 64, 77, 56, 56, 34, 48, 50, 55, 49,\n",
              "       58, 70, 63, 58, 45, 76, 58, 31, 29, 78, 73, 57, 35, 22, 59, 73, 41,\n",
              "       45, 63, 41, 73, 63, 63, 48, 59, 60, 74, 74, 38, 39, 65, 76, 21, 64,\n",
              "       38, 39, 40, 69, 58, 30, 50, 44, 71, 47, 58, 42, 71, 27, 79, 30, 51,\n",
              "       31, 67, 66, 28, 78, 27, 65, 61, 49, 72, 60, 40, 44, 71, 23, 65, 36,\n",
              "       71, 71, 38, 65, 24, 30, 34, 58, 69, 66, 31, 41, 46, 24, 68, 66, 62,\n",
              "       60, 63, 77, 50, 39, 63, 74, 41, 38, 46, 37, 50, 22, 70, 75, 41, 45,\n",
              "       22, 75, 71, 57, 49, 54, 48, 27, 21, 75, 33, 61, 68, 70, 77, 44, 40,\n",
              "       56, 68, 67, 36, 22, 22, 44, 49, 73, 49, 24, 51, 70, 43, 70, 54, 50,\n",
              "       36, 62, 58, 65, 37, 62, 41, 23, 24, 21, 49, 72, 77, 54, 38, 41, 51,\n",
              "       58, 43, 63, 53, 59, 28, 50, 77, 24, 42, 65, 34, 34, 46, 58, 56, 53,\n",
              "       69, 44, 71, 42, 29, 46, 29, 28, 29, 72, 50, 52, 30, 35, 67, 79, 70,\n",
              "       56, 24, 28, 24, 37, 68, 21, 29, 40, 42, 53, 42, 54, 67, 43, 50, 74,\n",
              "       74, 29, 32, 57, 26, 61, 58])"
            ]
          },
          "execution_count": 10,
          "metadata": {
            "tags": []
          },
          "output_type": "execute_result"
        }
      ]
    },
    {
      "cell_type": "code",
      "metadata": {
        "id": "NjgsbVKpXLZW"
      },
      "source": [
        ""
      ],
      "execution_count": null,
      "outputs": []
    },
    {
      "cell_type": "code",
      "metadata": {
        "colab": {
          "base_uri": "https://localhost:8080/"
        },
        "id": "FhF5VHzp63uj",
        "outputId": "d328c1e2-579e-43e5-95a3-08322ca36303"
      },
      "source": [
        "# calculate the mean/average\n",
        "\n",
        "mean = (np.sum(dataset))/len(dataset)\n",
        "print(mean)\n",
        "\n",
        "# there is a function for this in numpy \n",
        "print(dataset.mean())\n",
        "\n",
        "# mean is a measure of location/center \n",
        "# problem of mean: it is very sensitive to outliers -> if you have valuess that are very very low or values that are very very hight the mean will be biased by this \n",
        "# in this situation we should use the median"
      ],
      "execution_count": null,
      "outputs": [
        {
          "name": "stdout",
          "output_type": "stream",
          "text": [
            "50.488\n",
            "50.488\n"
          ]
        }
      ]
    },
    {
      "cell_type": "code",
      "metadata": {
        "colab": {
          "base_uri": "https://localhost:8080/"
        },
        "id": "AgR_L7FLENRY",
        "outputId": "672f2745-8a76-47b1-d093-3e7f285d65de"
      },
      "source": [
        "np.sort(dataset)"
      ],
      "execution_count": null,
      "outputs": [
        {
          "data": {
            "text/plain": [
              "array([20, 20, 20, 21, 21, 21, 21, 21, 21, 21, 21, 21, 21, 22, 22, 22, 22,\n",
              "       22, 22, 22, 23, 23, 23, 23, 23, 23, 23, 24, 24, 24, 24, 24, 24, 24,\n",
              "       24, 25, 25, 26, 26, 27, 27, 27, 27, 27, 27, 27, 27, 27, 27, 27, 28,\n",
              "       28, 28, 28, 28, 28, 28, 28, 28, 28, 28, 28, 29, 29, 29, 29, 29, 29,\n",
              "       29, 29, 29, 29, 29, 29, 30, 30, 30, 30, 30, 30, 30, 31, 31, 31, 31,\n",
              "       31, 31, 31, 31, 31, 31, 31, 31, 31, 31, 32, 32, 32, 32, 32, 32, 32,\n",
              "       33, 33, 33, 33, 33, 34, 34, 34, 34, 34, 35, 35, 35, 35, 35, 35, 36,\n",
              "       36, 36, 36, 36, 36, 36, 37, 37, 37, 37, 37, 37, 37, 38, 38, 38, 38,\n",
              "       38, 38, 38, 38, 38, 38, 38, 38, 39, 39, 39, 39, 39, 39, 39, 40, 40,\n",
              "       40, 40, 40, 40, 40, 41, 41, 41, 41, 41, 41, 41, 41, 42, 42, 42, 42,\n",
              "       42, 42, 42, 42, 42, 43, 43, 43, 43, 43, 43, 43, 43, 43, 43, 44, 44,\n",
              "       44, 44, 44, 44, 44, 44, 44, 44, 45, 45, 45, 45, 45, 45, 45, 45, 45,\n",
              "       46, 46, 46, 46, 46, 46, 46, 47, 47, 47, 47, 47, 47, 48, 48, 48, 48,\n",
              "       48, 48, 48, 48, 48, 48, 48, 49, 49, 49, 49, 49, 49, 49, 49, 49, 49,\n",
              "       49, 50, 50, 50, 50, 50, 50, 50, 50, 50, 50, 50, 50, 50, 51, 51, 51,\n",
              "       51, 51, 51, 51, 52, 52, 52, 52, 52, 52, 53, 53, 53, 53, 53, 53, 53,\n",
              "       53, 53, 53, 53, 53, 53, 54, 54, 54, 54, 54, 54, 54, 54, 55, 55, 55,\n",
              "       55, 56, 56, 56, 56, 56, 56, 56, 56, 56, 56, 56, 57, 57, 57, 57, 58,\n",
              "       58, 58, 58, 58, 58, 58, 58, 58, 58, 58, 58, 58, 58, 58, 58, 58, 58,\n",
              "       58, 59, 59, 59, 59, 59, 59, 60, 60, 60, 60, 60, 60, 61, 61, 61, 61,\n",
              "       61, 61, 61, 61, 62, 62, 62, 62, 62, 62, 62, 63, 63, 63, 63, 63, 63,\n",
              "       63, 63, 63, 63, 64, 64, 64, 64, 64, 64, 65, 65, 65, 65, 65, 65, 65,\n",
              "       65, 65, 65, 66, 66, 66, 66, 66, 66, 66, 66, 67, 67, 67, 67, 67, 67,\n",
              "       67, 67, 68, 68, 68, 68, 68, 68, 68, 68, 68, 68, 69, 69, 69, 69, 69,\n",
              "       69, 69, 69, 69, 69, 69, 70, 70, 70, 70, 70, 70, 70, 70, 70, 70, 71,\n",
              "       71, 71, 71, 71, 71, 71, 71, 71, 72, 72, 72, 72, 72, 72, 72, 73, 73,\n",
              "       73, 73, 73, 73, 73, 73, 73, 74, 74, 74, 74, 74, 74, 74, 74, 74, 74,\n",
              "       74, 75, 75, 75, 75, 75, 75, 76, 76, 76, 76, 76, 76, 76, 76, 76, 76,\n",
              "       76, 76, 77, 77, 77, 77, 77, 77, 77, 77, 78, 78, 78, 78, 78, 78, 78,\n",
              "       78, 79, 79, 79, 79, 79, 79])"
            ]
          },
          "execution_count": 13,
          "metadata": {
            "tags": []
          },
          "output_type": "execute_result"
        }
      ]
    },
    {
      "cell_type": "code",
      "metadata": {
        "colab": {
          "base_uri": "https://localhost:8080/"
        },
        "id": "5hx4RyYB8LdC",
        "outputId": "73ff471b-2153-4226-e59b-a8d175a7589c"
      },
      "source": [
        "# median -> the central number/ middle value\n",
        "# understand why the median is barely affected by outliers\n",
        "# because outliers only count as \"one more element\" and barely change the center\n",
        "print(np.sort(dataset)[250])  #this is WRONG, it should be the average between element 249 and element 250\n",
        "print(np.median(dataset))"
      ],
      "execution_count": null,
      "outputs": [
        {
          "name": "stdout",
          "output_type": "stream",
          "text": [
            "50\n",
            "50.0\n"
          ]
        }
      ]
    },
    {
      "cell_type": "code",
      "metadata": {
        "colab": {
          "base_uri": "https://localhost:8080/"
        },
        "id": "fPayHz2L88yw",
        "outputId": "73a57964-54c4-47a8-9f0b-b83e66c656ab"
      },
      "source": [
        "# mode is the most frequent value aka: the one that appears the most\n",
        "# numpy doesnt have an easy mode function\n",
        "# https://www.scipy.org/\n",
        "from scipy import stats\n",
        "\n",
        "stats.mode(dataset)\n",
        "#mode method returns 2 elements -> the mode, and the count of that element"
      ],
      "execution_count": null,
      "outputs": [
        {
          "data": {
            "text/plain": [
              "ModeResult(mode=array([58]), count=array([19]))"
            ]
          },
          "execution_count": 14,
          "metadata": {
            "tags": []
          },
          "output_type": "execute_result"
        }
      ]
    },
    {
      "cell_type": "code",
      "metadata": {
        "colab": {
          "base_uri": "https://localhost:8080/"
        },
        "id": "G62ELS_O64mF",
        "outputId": "f32e25db-059c-411e-84d2-376bab8bc98d"
      },
      "source": [
        "# calculated the lower quartile -> the position where 25% of my data \"has passed\"\n",
        "q1 = np.quantile(dataset, 0.25)\n",
        "print(\"the first quartile is\", q1)\n",
        "q2 = np.quantile(dataset, 0.50)\n",
        "print(\"the second quartile is\",q2)\n",
        "q3 = np.quantile(dataset, 0.75)\n",
        "print(\"the third quartile is\", q3)"
      ],
      "execution_count": null,
      "outputs": [
        {
          "name": "stdout",
          "output_type": "stream",
          "text": [
            "the first quartile is 36.75\n",
            "the second quartile is 50.0\n",
            "the third quartile is 65.0\n"
          ]
        }
      ]
    },
    {
      "cell_type": "code",
      "metadata": {
        "colab": {
          "background_save": true,
          "base_uri": "https://localhost:8080/"
        },
        "id": "UG55b1PT7BfQ",
        "outputId": "6fb5f5a3-6169-40fc-91ac-1a94c2e21d4b"
      },
      "source": [
        "[0, 1, 2, 3, 4,  5, 6, 7, 8, 9]\n",
        "import numpy as np \n",
        "np.quantile([0, 1, 2, 3, 4,  5, 6, 7, 8, 9, 10], 0.75, interpolation = 'nearest')"
      ],
      "execution_count": null,
      "outputs": [
        {
          "data": {
            "text/plain": [
              "8"
            ]
          },
          "execution_count": null,
          "metadata": {},
          "output_type": "execute_result"
        }
      ]
    },
    {
      "cell_type": "code",
      "metadata": {
        "colab": {
          "base_uri": "https://localhost:8080/"
        },
        "id": "KknpesjQAGjC",
        "outputId": "e9d9e2b1-419a-45c6-d5a4-8429ae262ed5"
      },
      "source": [
        "# I have 500 numbers in my dataset, in which position should the lower quartile be?\n",
        "# the first quarter of 500 is 125. Therefore by definiton the 125th element is my lower quartile\n",
        "# the numbers must be sorted\n",
        "#dataset[125]\n",
        "np.sort(dataset)[125] #this is WRONG, it should be the average between element 125 and element 126"
      ],
      "execution_count": null,
      "outputs": [
        {
          "data": {
            "text/plain": [
              "37"
            ]
          },
          "execution_count": 16,
          "metadata": {
            "tags": []
          },
          "output_type": "execute_result"
        }
      ]
    },
    {
      "cell_type": "code",
      "metadata": {
        "colab": {
          "base_uri": "https://localhost:8080/",
          "height": 513
        },
        "id": "qDclJA5RAR8p",
        "outputId": "3a1f9f0d-0764-4c73-b025-d038941d35fc"
      },
      "source": [
        "# plotting histograms allows us to visualize nicely the distribution of our data\n",
        "# this histograms creates \"buckets/boxes\" of values and then places the numbers of the dataset in each box and counts\n",
        "plt.hist(dataset, bins = 20)\n",
        "plt.show()\n",
        "\n",
        "plt.hist(dataset, bins = 20, cumulative = True)\n",
        "plt.hlines([125,250,375],20,85,colors = 'r')\n",
        "plt.vlines([q1,q2,q3],0,500,colors='r')\n",
        "plt.show()"
      ],
      "execution_count": null,
      "outputs": [
        {
          "data": {
            "image/png": "[encoded data removed]",
            "text/plain": [
              "<Figure size 432x288 with 1 Axes>"
            ]
          },
          "metadata": {
            "tags": []
          },
          "output_type": "display_data"
        },
        {
          "data": {
            "image/png": "[encoded data removed]",
            "text/plain": [
              "<Figure size 432x288 with 1 Axes>"
            ]
          },
          "metadata": {
            "tags": []
          },
          "output_type": "display_data"
        }
      ]
    },
    {
      "cell_type": "code",
      "metadata": {
        "colab": {
          "base_uri": "https://localhost:8080/",
          "height": 265
        },
        "id": "8hl2r6YbBMIV",
        "outputId": "e7fe4a0b-824f-4d13-b88b-62c23841eac3"
      },
      "source": [
        "# the box plot brings together all this information\n",
        "plt.boxplot(dataset)\n",
        "plt.show()"
      ],
      "execution_count": null,
      "outputs": [
        {
          "data": {
            "image/png": "[encoded data removed]",
            "text/plain": [
              "<Figure size 432x288 with 1 Axes>"
            ]
          },
          "metadata": {
            "tags": []
          },
          "output_type": "display_data"
        }
      ]
    },
    {
      "cell_type": "markdown",
      "metadata": {
        "id": "BV30dwklXVNy"
      },
      "source": [
        "## Dispersion"
      ]
    },
    {
      "cell_type": "code",
      "metadata": {
        "colab": {
          "base_uri": "https://localhost:8080/"
        },
        "id": "EYDexzlPDkGj",
        "outputId": "b97bead8-6c53-4bc9-d866-9418ee477fde"
      },
      "source": [
        "# Interquartile Range\n",
        "\n",
        "# what information does the IQR give you about how spread out the data is?\n",
        "# between the upper quartile and the lower quartile lies for sure 50% of the data\n",
        "#it's a measure of how spread out, 50% of the data is?\n",
        "iqr = q3 - q1\n",
        "print(iqr)"
      ],
      "execution_count": null,
      "outputs": [
        {
          "name": "stdout",
          "output_type": "stream",
          "text": [
            "28.25\n"
          ]
        }
      ]
    },
    {
      "cell_type": "code",
      "metadata": {
        "colab": {
          "base_uri": "https://localhost:8080/"
        },
        "id": "mTM4AryaMXgD",
        "outputId": "f74519f4-7c7d-47be-9425-cdc1b4a23bc5"
      },
      "source": [
        "# range\n",
        "dataset.max() - dataset.min()"
      ],
      "execution_count": null,
      "outputs": [
        {
          "data": {
            "text/plain": [
              "59"
            ]
          },
          "execution_count": 21,
          "metadata": {
            "tags": []
          },
          "output_type": "execute_result"
        }
      ]
    },
    {
      "cell_type": "code",
      "metadata": {
        "colab": {
          "base_uri": "https://localhost:8080/"
        },
        "id": "G_7x3XoQMoKP",
        "outputId": "2b2455bf-784f-44d3-d042-e9e37747e385"
      },
      "source": [
        "# variance\n",
        "# standard deviation\n",
        "\n",
        "# standard deviation -> square root of the variance\n",
        "\n",
        "# this right now calculates the average deviation from the mean\n",
        "np.mean(dataset - np.mean(dataset))\n",
        "\n",
        "# we square the differences between the mean and each point\n",
        "squared_differences = np.square(np.mean(dataset)-dataset)\n",
        "variance = np.sum(squared_differences)/len(dataset)\n",
        "print(variance)\n",
        "\n",
        "# is the variance a meaningful indicator? why?\n",
        "# the units of the variance are the square of the units of each elements\n",
        "# makes it hard to relate to the average.\n",
        "\n",
        "standard_deviation = np.sqrt(variance)\n",
        "\n",
        "# the standard deviation has the correct units compared to each element\n",
        "#  \n",
        "print(\"\"\"The \"typical\" variation of ages in this data set is \"\"\", standard_deviation)"
      ],
      "execution_count": null,
      "outputs": [
        {
          "name": "stdout",
          "output_type": "stream",
          "text": [
            "284.51385600000003\n",
            "The \"typical\" variation of ages in this data set is  16.86753852819077\n"
          ]
        }
      ]
    },
    {
      "cell_type": "code",
      "metadata": {
        "colab": {
          "base_uri": "https://localhost:8080/"
        },
        "id": "TDCiMmCJzfvt",
        "outputId": "dba39c96-7bba-4e83-cc4b-07d5efebf9e8"
      },
      "source": [
        "np.var(dataset)"
      ],
      "execution_count": null,
      "outputs": [
        {
          "data": {
            "text/plain": [
              "308.977516"
            ]
          },
          "execution_count": 10,
          "metadata": {
            "tags": []
          },
          "output_type": "execute_result"
        }
      ]
    },
    {
      "cell_type": "code",
      "metadata": {
        "colab": {
          "base_uri": "https://localhost:8080/"
        },
        "id": "2TP2x1PZQeMS",
        "outputId": "31c4ca8e-3069-44e0-fe68-30443a6efc71"
      },
      "source": [
        "# coefficient of variation. standard deviation as percentage of mean\n",
        "\n",
        "cv = np.sqrt(variance)/np.mean(dataset)\n",
        "\n",
        "#big advantage -> this indicator has no units -> its a relative indicator\n",
        "# very useful when comparing the variations of measures with different units\n",
        "\n",
        "#e.g.\n",
        "#webdev cohort std of height = 20 cm/180 cm \n",
        "#cv_webdev = 35%\n",
        "#data cohort std of ages = 4 years/ 31 years\n",
        "#cv_data = 15%\n",
        "#what has more variation? heights in webdev of ages in data?\n",
        "#based on CV I can say that ages in data, has less variation than heights in webdev\n",
        "\n",
        "\n",
        "\n",
        "# one BIG disadvantage of CV -> non-linear data transformations\n",
        "\n",
        "# these numbers are exactly the same but in two different scales\n",
        "# celsius faranheit scale example  D*(9/5) + 32 = F \n",
        "\n",
        "Celsius =  [0, 10, 20, 30, 40]\n",
        "Fahrenheit =  [32, 50, 68, 86, 104]\n",
        "\n",
        "print(np.std(Celsius)/np.mean(Celsius))\n",
        "print(np.std(Fahrenheit)/np.mean(Fahrenheit))"
      ],
      "execution_count": null,
      "outputs": [
        {
          "name": "stdout",
          "output_type": "stream",
          "text": [
            "0.7071067811865476\n",
            "0.3743506488634663\n"
          ]
        }
      ]
    },
    {
      "cell_type": "code",
      "metadata": {
        "colab": {
          "base_uri": "https://localhost:8080/"
        },
        "id": "7vKgaqPyTuay",
        "outputId": "43064530-edda-4ab7-9f27-deafc93da0e8"
      },
      "source": [
        "#ADVANCED: Rankine is to Farenheight what Kelvin is to Celsius (-273.15), which means there is a linear relation between Kelvin and Rankine\n",
        "#(9/5) to be exact\n",
        "Kelvin = [273.15, 283.15, 293.15, 303.15, 313.15]\n",
        "Rankine = [491.67, 509.67, 527.67, 545.67, 563.67]\n",
        "#print(np.divide(np.array(Rankine),np.array(Kelvin)))\n",
        "\n",
        "print(np.std(Kelvin)/np.mean(Kelvin))\n",
        "print(np.std(Rankine)/np.mean(Rankine))"
      ],
      "execution_count": null,
      "outputs": [
        {
          "name": "stdout",
          "output_type": "stream",
          "text": [
            "0.04824197722575798\n",
            "0.04824197722575793\n"
          ]
        }
      ]
    },
    {
      "cell_type": "markdown",
      "metadata": {
        "id": "jrhdtpkmM993"
      },
      "source": [
        "# Chebyshev's theorem"
      ]
    },
    {
      "cell_type": "code",
      "metadata": {
        "id": "003YvOKkH-T0"
      },
      "source": [
        "from scipy import stats\n",
        "import numpy as np\n",
        "from matplotlib import pyplot as plt"
      ],
      "execution_count": null,
      "outputs": []
    },
    {
      "cell_type": "code",
      "metadata": {
        "id": "PnVkSoz6SkLF"
      },
      "source": [
        "skewed_data = stats.skewnorm.rvs(a= 2,loc = 10, scale = 2, size = 100)"
      ],
      "execution_count": null,
      "outputs": []
    },
    {
      "cell_type": "code",
      "metadata": {
        "colab": {
          "base_uri": "https://localhost:8080/",
          "height": 265
        },
        "id": "asgVxyM7S9K7",
        "outputId": "8d6f27e1-7f40-492c-dfc5-2eba19d6f3b4"
      },
      "source": [
        "# a = 0 will not give you skewness\n",
        "plt.hist(skewed_data)\n",
        "plt.show()"
      ],
      "execution_count": null,
      "outputs": [
        {
          "data": {
            "image/png": "[encoded data removed]",
            "text/plain": [
              "<Figure size 432x288 with 1 Axes>"
            ]
          },
          "metadata": {
            "tags": []
          },
          "output_type": "display_data"
        }
      ]
    },
    {
      "cell_type": "code",
      "metadata": {
        "colab": {
          "base_uri": "https://localhost:8080/"
        },
        "id": "tcO35mD1T96X",
        "outputId": "2f99854b-6374-43e9-df76-861534377248"
      },
      "source": [
        "# ask ourselves if this data obeys the chebychev criteria for 2 standard deviations?\n",
        "# Chebychev predicts 75% or more data lies within 2 stds\n",
        "\n",
        "mean = skewed_data.mean()\n",
        "std = skewed_data.std()\n",
        "\n",
        "points_within_2_std =skewed_data[(skewed_data < (mean + 2*std)) & (skewed_data > (mean - 2*std))]\n",
        "\n",
        "len(points_within_2_std)/len(skewed_data)\n",
        "\n",
        "# Chebychev predicted 75% or more within 2 sigmas -> and we proved it right with our example"
      ],
      "execution_count": null,
      "outputs": [
        {
          "data": {
            "text/plain": [
              "0.97"
            ]
          },
          "execution_count": 29,
          "metadata": {
            "tags": []
          },
          "output_type": "execute_result"
        }
      ]
    },
    {
      "cell_type": "code",
      "metadata": {
        "id": "JqNTSr6eM99_"
      },
      "source": [
        ""
      ],
      "execution_count": null,
      "outputs": []
    }
  ]
}