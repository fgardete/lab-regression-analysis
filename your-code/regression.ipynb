{
 "cells": [
  {
   "cell_type": "markdown",
   "metadata": {
    "id": "o-PT97FMp3B4"
   },
   "source": [
    "#Linear Regression"
   ]
  },
  {
   "cell_type": "code",
   "execution_count": null,
   "metadata": {
    "id": "KKOVafp6xvaG"
   },
   "outputs": [],
   "source": [
    "#introducing sklearn, which is the \"standard\" machine learning package for python\n",
    "from sklearn import linear_model\n",
    "\n",
    "\n",
    "import pandas as pd\n",
    "import numpy as np\n",
    "from matplotlib import pyplot as plt"
   ]
  },
  {
   "cell_type": "code",
   "execution_count": null,
   "metadata": {
    "id": "oHog_0dqUcOa"
   },
   "outputs": [],
   "source": [
    "# We want to find the \"best\" line that approximates our set of datapoints \n",
    "# with only 2 parameters we can generate any element of the family of straight lines\n",
    "\n",
    "# y-intercept / b0 -> the height of the line\n",
    "# gradient/ coeficient /b1  -> the slope of the line "
   ]
  },
  {
   "cell_type": "code",
   "execution_count": null,
   "metadata": {
    "colab": {
     "base_uri": "https://localhost:8080/"
    },
    "id": "GpZJQJhNMIcN",
    "outputId": "ecec63ef-61a7-4643-fe55-fed724920304"
   },
   "outputs": [
    {
     "data": {
      "text/plain": [
       "array([0, 1, 2, 3, 4, 5, 6, 7, 8, 9])"
      ]
     },
     "execution_count": 2,
     "metadata": {},
     "output_type": "execute_result"
    }
   ],
   "source": [
    "# generating an array of x values\n",
    "x = np.arange(0,10,1)\n",
    "x"
   ]
  },
  {
   "cell_type": "code",
   "execution_count": null,
   "metadata": {
    "colab": {
     "base_uri": "https://localhost:8080/",
     "height": 265
    },
    "id": "SaClvQU0MMvL",
    "outputId": "90ffe43d-b9e4-4d8d-f8d0-8ca3b5072598"
   },
   "outputs": [
    {
     "data": {
      "image/png": "[encoded data removed]",
      "text/plain": [
       "<Figure size 432x288 with 1 Axes>"
      ]
     },
     "metadata": {
      "needs_background": "light"
     },
     "output_type": "display_data"
    }
   ],
   "source": [
    "y = x\n",
    "#y2 = x + 3\n",
    "#y3 = x - 1\n",
    "#here we are changing the y-intercept, which controls the height of the line\n",
    "\n",
    "plt.plot(x,y)\n",
    "#plt.plot(x,y2)\n",
    "#plt.plot(x,y3)\n",
    "plt.show()"
   ]
  },
  {
   "cell_type": "code",
   "execution_count": null,
   "metadata": {
    "colab": {
     "base_uri": "https://localhost:8080/",
     "height": 265
    },
    "id": "zdlDNh6gNmCt",
    "outputId": "e982a0ce-90aa-475c-cd36-d60895790948"
   },
   "outputs": [
    {
     "data": {
      "image/png": "[encoded data removed]",
      "text/plain": [
       "<Figure size 432x288 with 1 Axes>"
      ]
     },
     "metadata": {
      "needs_background": "light"
     },
     "output_type": "display_data"
    }
   ],
   "source": [
    "y = x \n",
    "#y2 = 2*x \n",
    "#y3 = -3*x\n",
    "#here we are changing the gradient, which controls the slope of the line\n",
    "\n",
    "plt.plot(x,y)\n",
    "#plt.plot(x,y2)\n",
    "#plt.plot(x,y3)\n",
    "plt.show()"
   ]
  },
  {
   "cell_type": "code",
   "execution_count": null,
   "metadata": {
    "colab": {
     "base_uri": "https://localhost:8080/",
     "height": 204
    },
    "id": "e4N3DnPLMmoo",
    "outputId": "5cc1a58b-ed7a-4153-ce2d-acde418f6806"
   },
   "outputs": [
    {
     "data": {
      "text/html": [
       "<div>\n",
       "<style scoped>\n",
       "    .dataframe tbody tr th:only-of-type {\n",
       "        vertical-align: middle;\n",
       "    }\n",
       "\n",
       "    .dataframe tbody tr th {\n",
       "        vertical-align: top;\n",
       "    }\n",
       "\n",
       "    .dataframe thead th {\n",
       "        text-align: right;\n",
       "    }\n",
       "</style>\n",
       "<table border=\"1\" class=\"dataframe\">\n",
       "  <thead>\n",
       "    <tr style=\"text-align: right;\">\n",
       "      <th></th>\n",
       "      <th>SAT</th>\n",
       "      <th>GPA</th>\n",
       "    </tr>\n",
       "  </thead>\n",
       "  <tbody>\n",
       "    <tr>\n",
       "      <th>0</th>\n",
       "      <td>80</td>\n",
       "      <td>2.40</td>\n",
       "    </tr>\n",
       "    <tr>\n",
       "      <th>1</th>\n",
       "      <td>30</td>\n",
       "      <td>2.52</td>\n",
       "    </tr>\n",
       "    <tr>\n",
       "      <th>2</th>\n",
       "      <td>126</td>\n",
       "      <td>2.54</td>\n",
       "    </tr>\n",
       "    <tr>\n",
       "      <th>3</th>\n",
       "      <td>51</td>\n",
       "      <td>2.74</td>\n",
       "    </tr>\n",
       "    <tr>\n",
       "      <th>4</th>\n",
       "      <td>59</td>\n",
       "      <td>2.83</td>\n",
       "    </tr>\n",
       "  </tbody>\n",
       "</table>\n",
       "</div>"
      ],
      "text/plain": [
       "   SAT   GPA\n",
       "0   80  2.40\n",
       "1   30  2.52\n",
       "2  126  2.54\n",
       "3   51  2.74\n",
       "4   59  2.83"
      ]
     },
     "execution_count": 8,
     "metadata": {},
     "output_type": "execute_result"
    }
   ],
   "source": [
    "# SAT is a standardized test in the USA, GPA is the grade point average that a student gets out of highschool\n",
    "# we are interested in understanding if the SAT score is a good predictor of GPA\n",
    "# maybe this way if we have a foreign student, they can just take the SAT and get an \"equivalent\" GPA\n",
    "data = pd.read_csv(\"SAT_GPA.csv\")\n",
    "data.head()"
   ]
  },
  {
   "cell_type": "code",
   "execution_count": null,
   "metadata": {
    "colab": {
     "base_uri": "https://localhost:8080/",
     "height": 265
    },
    "id": "VAvOvYQMQTJW",
    "outputId": "70af084d-f043-44be-c38a-061ddf7eda0e"
   },
   "outputs": [
    {
     "data": {
      "image/png": "[encoded data removed]",
      "text/plain": [
       "<Figure size 432x288 with 1 Axes>"
      ]
     },
     "metadata": {
      "needs_background": "light"
     },
     "output_type": "display_data"
    }
   ],
   "source": [
    "# SAT is the independent variable in this case (what we think helps us predict GPA)\n",
    "# GPA is the dependent variable (what we want to predict/measure)\n",
    "x = data[['SAT']]\n",
    "y = data['GPA']\n",
    "\n",
    "plt.scatter(x,y)\n",
    "plt.show()"
   ]
  },
  {
   "cell_type": "code",
   "execution_count": null,
   "metadata": {
    "id": "injoATPBws2o"
   },
   "outputs": [],
   "source": [
    "from sklearn import linear_model\n",
    "\n",
    "# to perform the linear regression I use the sklearn implementation of linear regression\n",
    "# we will use sklearn a lot\n",
    "\n",
    "# we first create the model. This just tells python to be ready to use a linear model, it does not actually compute anything yet\n",
    "model = linear_model.LinearRegression()"
   ]
  },
  {
   "cell_type": "code",
   "execution_count": null,
   "metadata": {
    "colab": {
     "base_uri": "https://localhost:8080/",
     "height": 51
    },
    "id": "GkOHKssNxF-T",
    "outputId": "b6abbe60-42ab-43be-cfce-b5b9f5d71825"
   },
   "outputs": [
    {
     "data": {
      "text/plain": [
       "2.9804345735119386"
      ]
     },
     "metadata": {},
     "output_type": "display_data"
    },
    {
     "data": {
      "text/plain": [
       "array([0.00165569])"
      ]
     },
     "metadata": {},
     "output_type": "display_data"
    }
   ],
   "source": [
    "# we now \"fit\" (a.k.a. \"train\") the model in our data\n",
    "# linear regression picks the line (i.e. the intercept and the gradient) that best \"fits\" our data\n",
    "# we will get to the meaning of \"fitting the data\" in a second\n",
    "\n",
    "result = model.fit(x,y)\n",
    "display(result.intercept_)\n",
    "display(result.coef_) # coefficients is an array because later we will see we can have more than one dimension for our gradient"
   ]
  },
  {
   "cell_type": "code",
   "execution_count": null,
   "metadata": {
    "colab": {
     "base_uri": "https://localhost:8080/",
     "height": 265
    },
    "id": "RuMbOQ171k0r",
    "outputId": "d65b6fa3-c3fd-4437-af92-472977b28a25"
   },
   "outputs": [
    {
     "data": {
      "image/png": "[encoded data removed]",
      "text/plain": [
       "<Figure size 432x288 with 1 Axes>"
      ]
     },
     "metadata": {
      "needs_background": "light"
     },
     "output_type": "display_data"
    }
   ],
   "source": [
    "# this means that under this model, average students have a baseline 2.98 GPA \n",
    "# and each point of SAT score improves this baseline score by 1/1000 of a point, all other things being equal \n",
    "# Let's visualize this result\n",
    "regression_line = result.intercept_ + result.coef_[0]*x\n",
    "plt.plot(x, regression_line, c = 'orange')\n",
    "plt.scatter(x,y)\n",
    "plt.show()"
   ]
  },
  {
   "cell_type": "code",
   "execution_count": null,
   "metadata": {
    "id": "KnWfdfkl_tfD"
   },
   "outputs": [],
   "source": [
    "# what does this mean?\n",
    "# well, under this model we would say, for example, that the expected GPA for a SAT score of 100 is 3.15 \n",
    "# and the expected GPA for a 300 score SAT would be around 3.5 "
   ]
  },
  {
   "cell_type": "code",
   "execution_count": null,
   "metadata": {
    "colab": {
     "base_uri": "https://localhost:8080/",
     "height": 111
    },
    "id": "thDdF7PwHC0U",
    "outputId": "33aa5f39-c85b-4ab6-aa09-70964198fbe6"
   },
   "outputs": [
    {
     "data": {
      "text/html": [
       "<div>\n",
       "<style scoped>\n",
       "    .dataframe tbody tr th:only-of-type {\n",
       "        vertical-align: middle;\n",
       "    }\n",
       "\n",
       "    .dataframe tbody tr th {\n",
       "        vertical-align: top;\n",
       "    }\n",
       "\n",
       "    .dataframe thead th {\n",
       "        text-align: right;\n",
       "    }\n",
       "</style>\n",
       "<table border=\"1\" class=\"dataframe\">\n",
       "  <thead>\n",
       "    <tr style=\"text-align: right;\">\n",
       "      <th></th>\n",
       "      <th>SAT</th>\n",
       "    </tr>\n",
       "  </thead>\n",
       "  <tbody>\n",
       "    <tr>\n",
       "      <th>0</th>\n",
       "      <td>110</td>\n",
       "    </tr>\n",
       "    <tr>\n",
       "      <th>1</th>\n",
       "      <td>270</td>\n",
       "    </tr>\n",
       "  </tbody>\n",
       "</table>\n",
       "</div>"
      ],
      "text/plain": [
       "   SAT\n",
       "0  110\n",
       "1  270"
      ]
     },
     "execution_count": 15,
     "metadata": {},
     "output_type": "execute_result"
    }
   ],
   "source": [
    "# we can now use this model to predict a new point, i.e. how much GPA would a student with a SAT score of x acheive \n",
    "# say SAT scores of 110 or 270\n",
    "new_points = pd.DataFrame([110,270],columns=['SAT'])\n",
    "new_points"
   ]
  },
  {
   "cell_type": "code",
   "execution_count": null,
   "metadata": {
    "colab": {
     "base_uri": "https://localhost:8080/",
     "height": 68
    },
    "id": "A5QPOUJXIMXI",
    "outputId": "1e771bb0-e53a-4bea-d32b-1cdd8b06e878"
   },
   "outputs": [
    {
     "data": {
      "text/plain": [
       "array([3.16256026, 3.42747035])"
      ]
     },
     "metadata": {},
     "output_type": "display_data"
    },
    {
     "data": {
      "text/plain": [
       "3.162560259022148"
      ]
     },
     "metadata": {},
     "output_type": "display_data"
    },
    {
     "data": {
      "text/plain": [
       "3.4274703470369983"
      ]
     },
     "metadata": {},
     "output_type": "display_data"
    }
   ],
   "source": [
    "# we call \"predict\" on our trained model \n",
    "display(result.predict(new_points))\n",
    "# and for peace of mind (manualy done)\n",
    "display(result.intercept_ + result.coef_[0]*110)\n",
    "display(result.intercept_ + result.coef_[0]*270)"
   ]
  },
  {
   "cell_type": "code",
   "execution_count": null,
   "metadata": {
    "colab": {
     "base_uri": "https://localhost:8080/",
     "height": 265
    },
    "id": "pSxWUGsl43yn",
    "outputId": "c9204c35-8d3c-4e8d-8b98-0f9e5a0d7375"
   },
   "outputs": [
    {
     "data": {
      "image/png": "[encoded data removed]",
      "text/plain": [
       "<Figure size 432x288 with 1 Axes>"
      ]
     },
     "metadata": {
      "needs_background": "light"
     },
     "output_type": "display_data"
    }
   ],
   "source": [
    "# not amazing, but any other line would be \"worse\"\n",
    "regression_line = result.intercept_ + result.coef_[0]*x\n",
    "plt.plot(x, regression_line, c = 'orange')\n",
    "\n",
    "#distortion in intercept\n",
    "regression_line = (3.1) + result.coef_[0]*x\n",
    "plt.plot(x, regression_line, c = 'red')\n",
    "\n",
    "#distortion in coefficient\n",
    "regression_line = result.intercept_ + 0.001*x\n",
    "plt.plot(x, regression_line, c = 'red')\n",
    "plt.scatter(x,y)\n",
    "plt.show()"
   ]
  },
  {
   "cell_type": "code",
   "execution_count": null,
   "metadata": {
    "id": "EXzRNgFJ8VLA"
   },
   "outputs": [],
   "source": [
    "# how do we measure \"good/best/worse fit\"?\n",
    "# we check the distance from each point to the line, the smaller this distance, the better the line approximates that point\n",
    "# so we take all of these distances and sum them to get a \"total error\"\n",
    "# the smaller this total error, the better the fit "
   ]
  },
  {
   "cell_type": "code",
   "execution_count": null,
   "metadata": {
    "id": "Mn47MZLOFzMp"
   },
   "outputs": [],
   "source": [
    "# we actually use the square of the distance for\n",
    "# - technical reasons\n",
    "# - to penalize large errors disproportionately (why would we want to do this?)\n",
    "# and we call this error measure \"mean square error\" (MSE). We will use MSE a lot"
   ]
  },
  {
   "cell_type": "code",
   "execution_count": null,
   "metadata": {
    "colab": {
     "base_uri": "https://localhost:8080/",
     "height": 68
    },
    "id": "NFCWhJ1kGGUH",
    "outputId": "9a168bd9-d2ba-42f5-f5b6-abe0a547ffaa"
   },
   "outputs": [
    {
     "data": {
      "text/plain": [
       "0.04330086666167266"
      ]
     },
     "metadata": {},
     "output_type": "display_data"
    },
    {
     "data": {
      "text/plain": [
       "0.05759675787294472"
      ]
     },
     "metadata": {},
     "output_type": "display_data"
    },
    {
     "data": {
      "text/plain": [
       "0.06713308703021204"
      ]
     },
     "metadata": {},
     "output_type": "display_data"
    }
   ],
   "source": [
    "# skearn has a helpful set of metrics which include MSE\n",
    "from sklearn.metrics import mean_squared_error\n",
    "\n",
    "#and with it we can see our other choices for lines above were... not juducious\n",
    "display(mean_squared_error(result.predict(x),y))\n",
    "display(mean_squared_error(3.1 + result.coef_[0]*x,y))\n",
    "display(mean_squared_error(result.intercept_ + 0.001*x,y))"
   ]
  },
  {
   "cell_type": "code",
   "execution_count": null,
   "metadata": {
    "colab": {
     "base_uri": "https://localhost:8080/"
    },
    "id": "wtyB7tU0Vr0T",
    "outputId": "36562d43-af09-4e0a-9eca-bd67a5f19a83"
   },
   "outputs": [
    {
     "data": {
      "text/plain": [
       "0.40600391479679754"
      ]
     },
     "execution_count": 20,
     "metadata": {},
     "output_type": "execute_result"
    }
   ],
   "source": [
    "# minimizing MSE is how we choose our line, so it's not surprising we get the lowest MSE value from that line\n",
    "# there is another widely used metric of quality of reression, the r value\n",
    "\n",
    "# the r value is the pearson correlation coefficient and goes between -1 and 1, and states the \"quality of the fit\"\n",
    "# often the metric shown is the R^2 (R squared) = r^2 , this number goes from 0 to 1 and is the main metric \n",
    "# of the quality of the fit.\n",
    "\n",
    "#sklearn models show R^2 as a score by default\n",
    "result.score(x,y)"
   ]
  },
  {
   "cell_type": "code",
   "execution_count": null,
   "metadata": {
    "id": "DbcdksLTKaiw"
   },
   "outputs": [],
   "source": [
    "# 40% is not amazing, but not nothing as well.\n",
    "# I wouldn't feel comfortable assigning a GPA score just based on the SAT score, however"
   ]
  },
  {
   "cell_type": "code",
   "execution_count": null,
   "metadata": {
    "id": "2UX2YRFqXJpi"
   },
   "outputs": [],
   "source": [
    "#LET'S talk a little bit about the r2 (Slides)"
   ]
  },
  {
   "cell_type": "code",
   "execution_count": null,
   "metadata": {
    "id": "2EOl8AiaXJsz"
   },
   "outputs": [],
   "source": [
    "#DIY do it yourself\n",
    "#import our old friend, the california_housing_train.csv and try to predict the housing prices from number of rooms"
   ]
  },
  {
   "cell_type": "code",
   "execution_count": null,
   "metadata": {
    "id": "bNaHelj2R_i1"
   },
   "outputs": [],
   "source": [
    "#solution\n",
    "data = pd.read_csv('sample_data/california_housing_train.csv')\n",
    "display(data.head())\n",
    "\n",
    "y = data['median_house_value']\n",
    "x = data[['total_rooms']]\n",
    "\n",
    "result = linear_model.LinearRegression().fit(x,y)\n",
    "regression_line = result.coef_[0]*x + result.intercept_\n",
    "\n",
    "plt.plot(x, regression_line, c = 'orange')\n",
    "plt.scatter(x,y)\n",
    "plt.show()"
   ]
  },
  {
   "cell_type": "code",
   "execution_count": null,
   "metadata": {
    "id": "JyXa5XNzXe_y"
   },
   "outputs": [],
   "source": [
    "result.score(x,y)\n",
    "#the R^2 value gives us a notion of how good is our fit.\n",
    "#in this case it is really bad"
   ]
  },
  {
   "cell_type": "code",
   "execution_count": null,
   "metadata": {
    "id": "u2t-pFpRhjmQ"
   },
   "outputs": [],
   "source": [
    "## Multilinear regression"
   ]
  },
  {
   "cell_type": "code",
   "execution_count": null,
   "metadata": {
    "id": "_QkghTwDYf1U"
   },
   "outputs": [],
   "source": [
    "# how can we improve it?\n",
    "# why not try using other variables all together? "
   ]
  },
  {
   "cell_type": "code",
   "execution_count": null,
   "metadata": {
    "id": "TLqKcVRQUNjL"
   },
   "outputs": [],
   "source": [
    "# THIS IS PROBABLY THE MOST IMPORTANT LINE IN THIS NOTEBOOK\n",
    "#How do we choose which variables to use?\n",
    "\n",
    "#The best variables are those that:\n",
    "\n",
    "#1- Have a high correlation with the target (you want to predict, always the y)\n",
    "#So we can comput the correlation between all my columns with the one we want to predict and the higher the correlation,\n",
    "#the more we know one influences the other.\n",
    "\n",
    "#2- And low correlation between themselves because we don't want double effect.\n",
    "#If two independet variables are very correlated they are probably mesuring the same effects.\n",
    "\n",
    "#e.g.The number of steps that i give with the number of calories that I burn in the day.\n",
    "#The more steps I give the bigger the calories that I burn. It's a good predictor, they are higly correlated.\n",
    "#Now if I'm going to pick a second predictor. Let's say that I can choose between total distance that I walk in a day ir the total\n",
    "#weight that I carry in a day. Which one would I choose?\n",
    "\n",
    "#the variables that has different effect possible from each others\n"
   ]
  },
  {
   "cell_type": "code",
   "execution_count": null,
   "metadata": {
    "id": "3JFJ9I6jWudE"
   },
   "outputs": [],
   "source": [
    "# multi linear regression -> one dependent variable (y) but multiple independent variable (x)\n",
    "# y = b_1 * x1 + b_2 * x2 + b_0\n",
    "# this model is still a straight line, but has 2 inputs (x1, x2)"
   ]
  },
  {
   "cell_type": "code",
   "execution_count": null,
   "metadata": {
    "id": "9SeMG-coW_nj"
   },
   "outputs": [],
   "source": [
    "X = data[['median_income','total_rooms']]\n",
    "y = data['median_house_value']"
   ]
  },
  {
   "cell_type": "code",
   "execution_count": null,
   "metadata": {
    "id": "3BlSyld-XomI"
   },
   "outputs": [],
   "source": [
    "# from now on it's clear sailing, as before\n",
    "model = linear_model.LinearRegression()\n",
    "result = model.fit(X,y)"
   ]
  },
  {
   "cell_type": "code",
   "execution_count": null,
   "metadata": {
    "id": "DsGmB4fCxAvV"
   },
   "outputs": [],
   "source": [
    "#if I ask for the coeficients of this model how many will I get?"
   ]
  },
  {
   "cell_type": "code",
   "execution_count": null,
   "metadata": {
    "id": "Od2_y8ihckAX"
   },
   "outputs": [],
   "source": [
    "# still not amazing R^2\n",
    "result.score(X,y)"
   ]
  },
  {
   "cell_type": "code",
   "execution_count": null,
   "metadata": {
    "id": "VhB1bHgGh8Pl"
   },
   "outputs": [],
   "source": [
    "# we can now use this model to predict the price of a house given an income and an age\n",
    "new_houses = pd.DataFrame([{'median_income':1.432,'total_rooms':2},\n",
    " {'median_income':2.769,'total_rooms':5},\n",
    " {'median_income':1.962,'total_rooms':3},\n",
    " {'median_income':3.125,'total_rooms':5}])\n",
    "new_houses"
   ]
  },
  {
   "cell_type": "code",
   "execution_count": null,
   "metadata": {
    "id": "X5JUGqJ1f-DL"
   },
   "outputs": [],
   "source": [
    "result.predict(new_houses)\n",
    "# predictions not amazing but at least directionally correct."
   ]
  },
  {
   "cell_type": "markdown",
   "metadata": {
    "id": "Ck9NeVrPe_Mx"
   },
   "source": [
    "## Logistic regression"
   ]
  },
  {
   "cell_type": "code",
   "execution_count": null,
   "metadata": {
    "id": "ON9zrpf1tZIY"
   },
   "outputs": [],
   "source": [
    "from sklearn import linear_model\n",
    "\n",
    "\n",
    "import pandas as pd\n",
    "import numpy as np\n",
    "from matplotlib import pyplot as plt"
   ]
  },
  {
   "cell_type": "code",
   "execution_count": null,
   "metadata": {
    "id": "0ZVpxpbDnReb"
   },
   "outputs": [],
   "source": [
    "data = pd.read_csv('Customer-Churn.csv')\n",
    "data.head()"
   ]
  },
  {
   "cell_type": "code",
   "execution_count": null,
   "metadata": {
    "id": "6xa9drCYuiNK"
   },
   "outputs": [],
   "source": [
    "# let's try to use the variables \"tenure\",\"senior citizen\" and \"monthly charges\" to predict \"churn\"\n",
    "# PS - churn is the name given to the event of a client abandoning a company\n",
    "X = data[['tenure','SeniorCitizen','MonthlyCharges']]\n",
    "X.head()"
   ]
  },
  {
   "cell_type": "code",
   "execution_count": null,
   "metadata": {
    "id": "iv9N5dbfu9R6"
   },
   "outputs": [],
   "source": [
    "y = pd.DataFrame(data=data, columns=['Churn'])\n",
    "y.head()"
   ]
  },
  {
   "cell_type": "code",
   "execution_count": null,
   "metadata": {
    "id": "p8--7FqcnRhS"
   },
   "outputs": [],
   "source": [
    "from sklearn.preprocessing import StandardScaler\n",
    "\n",
    "#notice us all fancy, doing a standard scaler on the data\n",
    "transformer = StandardScaler().fit(X)\n",
    "scaled_x = transformer.transform(X)\n",
    "#ADVANCED: this is a numeric method, because solving this problem explicitly is a bit hard  \n",
    "model = linear_model.LogisticRegression(random_state=0)\n",
    "result = model.fit(scaled_x, data['Churn'])"
   ]
  },
  {
   "cell_type": "code",
   "execution_count": null,
   "metadata": {
    "id": "OiZ3a_WUvrbL"
   },
   "outputs": [],
   "source": [
    "new_clients = pd.DataFrame([{'tenure':2,'SeniorCitizen':1,'MonthlyCharges':90.20},\n",
    " {'tenure':40,'SeniorCitizen':1,'MonthlyCharges':32.45},\n",
    " {'tenure':3,'SeniorCitizen':0,'MonthlyCharges':85.15},\n",
    " {'tenure':44,'SeniorCitizen':0,'MonthlyCharges':40.45}])\n",
    "new_clients"
   ]
  },
  {
   "cell_type": "code",
   "execution_count": null,
   "metadata": {
    "id": "4gimjb-7HrUM"
   },
   "outputs": [],
   "source": [
    "#You will need to do the same kind of preprocessing to the data you want to use your model on\n",
    "#so you use the same standard scaller by transforming the new data with the method transform\n",
    "transformed_test = transformer.transform(new_clients)"
   ]
  },
  {
   "cell_type": "code",
   "execution_count": null,
   "metadata": {
    "id": "KKSFvS-KnRkA"
   },
   "outputs": [],
   "source": [
    "result.predict(transformed_test)"
   ]
  },
  {
   "cell_type": "code",
   "execution_count": null,
   "metadata": {
    "id": "qK3AqFQPxObS"
   },
   "outputs": [],
   "source": [
    "# what about R^2 score?\n",
    "# in this sense it does not make a lot of sense to use R^2 score because this is a *classification* exercise\n",
    "# we can still use it but it's not as interesting a metric.\n",
    "# instead we use \"accuracy\", i.e., what % of observations do we get right\n",
    "\n",
    "from sklearn.metrics import accuracy_score\n",
    "\n",
    "accuracy_score(result.predict(scaled_x),y)"
   ]
  },
  {
   "cell_type": "code",
   "execution_count": null,
   "metadata": {
    "id": "l6dJbFlHgTCd"
   },
   "outputs": [],
   "source": [
    "# 80% aqccuracy is nothing to scoff at."
   ]
  },
  {
   "cell_type": "code",
   "execution_count": null,
   "metadata": {
    "id": "fZnxu62vnqhd"
   },
   "outputs": [],
   "source": []
  }
 ],
 "metadata": {
  "colab": {
   "collapsed_sections": [],
   "name": "regression.ipynb",
   "provenance": []
  },
  "kernelspec": {
   "display_name": "Python 3",
   "language": "python",
   "name": "python3"
  },
  "language_info": {
   "codemirror_mode": {
    "name": "ipython",
    "version": 3
   },
   "file_extension": ".py",
   "mimetype": "text/x-python",
   "name": "python",
   "nbconvert_exporter": "python",
   "pygments_lexer": "ipython3",
   "version": "3.8.8"
  }
 },
 "nbformat": 4,
 "nbformat_minor": 1
}
